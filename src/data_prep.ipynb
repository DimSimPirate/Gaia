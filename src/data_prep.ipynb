{
 "cells": [
  {
   "cell_type": "markdown",
   "metadata": {},
   "source": [
    "# Data preparation for VAST 2017 Mini Challenge 2\n",
    "\n",
    "\n",
    "#### TODO:\n",
    "* See if there's something better to do with the non-unique sensor readings than just excluding them\n",
    "* check wind distances for accuracy and usefulness"
   ]
  },
  {
   "cell_type": "code",
   "execution_count": 1,
   "metadata": {
    "collapsed": true
   },
   "outputs": [],
   "source": [
    "from collections import OrderedDict\n",
    "import matplotlib as mpl\n",
    "import matplotlib.pyplot as plt\n",
    "import seaborn as sns\n",
    "\n",
    "import numpy as np\n",
    "import pandas as pd\n",
    "import scipy as sp\n",
    "from scipy.interpolate import interp1d\n",
    "\n",
    "from vast_2017_mc2 import dat_path, source_file_excel, source_file_pickle\n",
    "\n",
    "sns.set_style()\n",
    "%matplotlib inline"
   ]
  },
  {
   "cell_type": "markdown",
   "metadata": {},
   "source": [
    "## Parameters"
   ]
  },
  {
   "cell_type": "code",
   "execution_count": 2,
   "metadata": {
    "collapsed": true
   },
   "outputs": [],
   "source": [
    "source_file = {'manual': dat_path/'modified/manual.xlsx',\n",
    "               'wind': dat_path/'supplied/Meteorological Data.xlsx',\n",
    "               'sensor': dat_path/'supplied/Sensor Data.xlsx',\n",
    "              }\n",
    "\n",
    "km_per_grid_unit = 12 * 1.609 / 200  # <grid size miles> * <km per mile> / <# of grid units>\n",
    "column_name_mappings = {\n",
    "    'wind': {'Date': 'timestamp', \n",
    "             'Wind Direction': 'direction', \n",
    "             'Wind Speed (m/s)': 'speed'},\n",
    "    'sensor': {'Chemical': 'chemical', \n",
    "               'Monitor': 'monitor', \n",
    "               'Date Time ': 'timestamp', \n",
    "               'Reading': 'reading'},\n",
    "    }"
   ]
  },
  {
   "cell_type": "markdown",
   "metadata": {},
   "source": [
    "## Load"
   ]
  },
  {
   "cell_type": "code",
   "execution_count": 3,
   "metadata": {
    "scrolled": true
   },
   "outputs": [
    {
     "data": {
      "text/html": [
       "<div>\n",
       "<style>\n",
       "    .dataframe thead tr:only-child th {\n",
       "        text-align: right;\n",
       "    }\n",
       "\n",
       "    .dataframe thead th {\n",
       "        text-align: left;\n",
       "    }\n",
       "\n",
       "    .dataframe tbody tr th {\n",
       "        vertical-align: top;\n",
       "    }\n",
       "</style>\n",
       "<table border=\"1\" class=\"dataframe\">\n",
       "  <thead>\n",
       "    <tr style=\"text-align: right;\">\n",
       "      <th></th>\n",
       "      <th></th>\n",
       "      <th></th>\n",
       "      <th>reading</th>\n",
       "    </tr>\n",
       "    <tr>\n",
       "      <th>chemical</th>\n",
       "      <th>monitor</th>\n",
       "      <th>timestamp</th>\n",
       "      <th></th>\n",
       "    </tr>\n",
       "  </thead>\n",
       "  <tbody>\n",
       "    <tr>\n",
       "      <th rowspan=\"2\" valign=\"top\">AGOC-3A</th>\n",
       "      <th rowspan=\"2\" valign=\"top\">1</th>\n",
       "      <th>2016-04-01 00:00:00</th>\n",
       "      <td>0.160462</td>\n",
       "    </tr>\n",
       "    <tr>\n",
       "      <th>2016-04-01 01:00:00</th>\n",
       "      <td>0.065606</td>\n",
       "    </tr>\n",
       "  </tbody>\n",
       "</table>\n",
       "</div>"
      ],
      "text/plain": [
       "                                       reading\n",
       "chemical monitor timestamp                    \n",
       "AGOC-3A  1       2016-04-01 00:00:00  0.160462\n",
       "                 2016-04-01 01:00:00  0.065606"
      ]
     },
     "execution_count": 3,
     "metadata": {},
     "output_type": "execute_result"
    }
   ],
   "source": [
    "locations = pd.read_excel(source_file['manual'], sheetname='locations', index_col='name')\n",
    "wind = pd.read_excel(source_file['wind']).iloc[:,:3].dropna()\n",
    "wind.columns = [column_name_mappings['wind'].get(c, c) for c in wind.columns]\n",
    "wind.set_index('timestamp', inplace=True)\n",
    "wind.sort_index(inplace=True)\n",
    "sensor = pd.read_excel(source_file['sensor']).dropna()\n",
    "sensor.columns = [column_name_mappings['sensor'].get(c, c) for c in sensor.columns]\n",
    "sensor.set_index(['chemical', 'monitor', 'timestamp'], inplace=True)\n",
    "sensor.sort_index(inplace=True)\n",
    "sensor.head(2)"
   ]
  },
  {
   "cell_type": "code",
   "execution_count": 4,
   "metadata": {},
   "outputs": [
    {
     "data": {
      "text/html": [
       "<div>\n",
       "<style>\n",
       "    .dataframe thead tr:only-child th {\n",
       "        text-align: right;\n",
       "    }\n",
       "\n",
       "    .dataframe thead th {\n",
       "        text-align: left;\n",
       "    }\n",
       "\n",
       "    .dataframe tbody tr th {\n",
       "        vertical-align: top;\n",
       "    }\n",
       "</style>\n",
       "<table border=\"1\" class=\"dataframe\">\n",
       "  <thead>\n",
       "    <tr style=\"text-align: right;\">\n",
       "      <th></th>\n",
       "      <th>direction</th>\n",
       "      <th>speed</th>\n",
       "    </tr>\n",
       "    <tr>\n",
       "      <th>timestamp</th>\n",
       "      <th></th>\n",
       "      <th></th>\n",
       "    </tr>\n",
       "  </thead>\n",
       "  <tbody>\n",
       "    <tr>\n",
       "      <th>2016-04-01 00:00:00</th>\n",
       "      <td>190.5</td>\n",
       "      <td>4.0</td>\n",
       "    </tr>\n",
       "    <tr>\n",
       "      <th>2016-04-01 03:00:00</th>\n",
       "      <td>203.3</td>\n",
       "      <td>5.0</td>\n",
       "    </tr>\n",
       "  </tbody>\n",
       "</table>\n",
       "</div>"
      ],
      "text/plain": [
       "                     direction  speed\n",
       "timestamp                            \n",
       "2016-04-01 00:00:00      190.5    4.0\n",
       "2016-04-01 03:00:00      203.3    5.0"
      ]
     },
     "execution_count": 4,
     "metadata": {},
     "output_type": "execute_result"
    }
   ],
   "source": [
    "wind.head(2)"
   ]
  },
  {
   "cell_type": "markdown",
   "metadata": {},
   "source": [
    "## Completeness checks"
   ]
  },
  {
   "cell_type": "code",
   "execution_count": 5,
   "metadata": {},
   "outputs": [
    {
     "data": {
      "text/html": [
       "<div>\n",
       "<style>\n",
       "    .dataframe thead tr:only-child th {\n",
       "        text-align: right;\n",
       "    }\n",
       "\n",
       "    .dataframe thead th {\n",
       "        text-align: left;\n",
       "    }\n",
       "\n",
       "    .dataframe tbody tr th {\n",
       "        vertical-align: top;\n",
       "    }\n",
       "</style>\n",
       "<table border=\"1\" class=\"dataframe\">\n",
       "  <thead>\n",
       "    <tr style=\"text-align: right;\">\n",
       "      <th></th>\n",
       "      <th>direction</th>\n",
       "      <th>speed</th>\n",
       "    </tr>\n",
       "    <tr>\n",
       "      <th>timestamp</th>\n",
       "      <th></th>\n",
       "      <th></th>\n",
       "    </tr>\n",
       "  </thead>\n",
       "  <tbody>\n",
       "  </tbody>\n",
       "</table>\n",
       "</div>"
      ],
      "text/plain": [
       "Empty DataFrame\n",
       "Columns: [direction, speed]\n",
       "Index: []"
      ]
     },
     "execution_count": 5,
     "metadata": {},
     "output_type": "execute_result"
    }
   ],
   "source": [
    "def cell_counts(df):\n",
    "    result = df.groupby(df.index).count()\n",
    "    if isinstance(df.index, pd.MultiIndex):\n",
    "        result.index = pd.MultiIndex.from_tuples(result.index, names=df.index.names)\n",
    "    return result\n",
    "    \n",
    "def cell_counts_not_1(df):\n",
    "    result = cell_counts(df)\n",
    "    result = result[(result!=1).any(axis='columns')]\n",
    "    return result\n",
    "cell_counts_not_1(wind)"
   ]
  },
  {
   "cell_type": "code",
   "execution_count": 6,
   "metadata": {},
   "outputs": [
    {
     "data": {
      "text/html": [
       "<div>\n",
       "<style>\n",
       "    .dataframe thead tr:only-child th {\n",
       "        text-align: right;\n",
       "    }\n",
       "\n",
       "    .dataframe thead th {\n",
       "        text-align: left;\n",
       "    }\n",
       "\n",
       "    .dataframe tbody tr th {\n",
       "        vertical-align: top;\n",
       "    }\n",
       "</style>\n",
       "<table border=\"1\" class=\"dataframe\">\n",
       "  <thead>\n",
       "    <tr>\n",
       "      <th></th>\n",
       "      <th colspan=\"21\" halign=\"left\">reading</th>\n",
       "    </tr>\n",
       "    <tr>\n",
       "      <th>chemical</th>\n",
       "      <th colspan=\"9\" halign=\"left\">AGOC-3A</th>\n",
       "      <th>Appluimonia</th>\n",
       "      <th>...</th>\n",
       "      <th>Chlorodinine</th>\n",
       "      <th colspan=\"9\" halign=\"left\">Methylosmolene</th>\n",
       "    </tr>\n",
       "    <tr>\n",
       "      <th>monitor</th>\n",
       "      <th>1</th>\n",
       "      <th>2</th>\n",
       "      <th>3</th>\n",
       "      <th>4</th>\n",
       "      <th>5</th>\n",
       "      <th>6</th>\n",
       "      <th>7</th>\n",
       "      <th>8</th>\n",
       "      <th>9</th>\n",
       "      <th>1</th>\n",
       "      <th>...</th>\n",
       "      <th>9</th>\n",
       "      <th>1</th>\n",
       "      <th>2</th>\n",
       "      <th>3</th>\n",
       "      <th>4</th>\n",
       "      <th>5</th>\n",
       "      <th>6</th>\n",
       "      <th>7</th>\n",
       "      <th>8</th>\n",
       "      <th>9</th>\n",
       "    </tr>\n",
       "    <tr>\n",
       "      <th>timestamp</th>\n",
       "      <th></th>\n",
       "      <th></th>\n",
       "      <th></th>\n",
       "      <th></th>\n",
       "      <th></th>\n",
       "      <th></th>\n",
       "      <th></th>\n",
       "      <th></th>\n",
       "      <th></th>\n",
       "      <th></th>\n",
       "      <th></th>\n",
       "      <th></th>\n",
       "      <th></th>\n",
       "      <th></th>\n",
       "      <th></th>\n",
       "      <th></th>\n",
       "      <th></th>\n",
       "      <th></th>\n",
       "      <th></th>\n",
       "      <th></th>\n",
       "      <th></th>\n",
       "    </tr>\n",
       "  </thead>\n",
       "  <tbody>\n",
       "    <tr>\n",
       "      <th>2016-04-01 00:00:00</th>\n",
       "      <td>1</td>\n",
       "      <td>1</td>\n",
       "      <td>1</td>\n",
       "      <td>1</td>\n",
       "      <td>1</td>\n",
       "      <td>1</td>\n",
       "      <td>1</td>\n",
       "      <td>1</td>\n",
       "      <td>1</td>\n",
       "      <td>1</td>\n",
       "      <td>...</td>\n",
       "      <td>1</td>\n",
       "      <td>1</td>\n",
       "      <td>1</td>\n",
       "      <td>1</td>\n",
       "      <td>1</td>\n",
       "      <td>1</td>\n",
       "      <td>1</td>\n",
       "      <td>1</td>\n",
       "      <td>1</td>\n",
       "      <td>1</td>\n",
       "    </tr>\n",
       "    <tr>\n",
       "      <th>2016-04-01 01:00:00</th>\n",
       "      <td>1</td>\n",
       "      <td>1</td>\n",
       "      <td>1</td>\n",
       "      <td>1</td>\n",
       "      <td>1</td>\n",
       "      <td>1</td>\n",
       "      <td>1</td>\n",
       "      <td>1</td>\n",
       "      <td>1</td>\n",
       "      <td>1</td>\n",
       "      <td>...</td>\n",
       "      <td>1</td>\n",
       "      <td>1</td>\n",
       "      <td>1</td>\n",
       "      <td>1</td>\n",
       "      <td>1</td>\n",
       "      <td>1</td>\n",
       "      <td>1</td>\n",
       "      <td>1</td>\n",
       "      <td>1</td>\n",
       "      <td>1</td>\n",
       "    </tr>\n",
       "    <tr>\n",
       "      <th>2016-04-01 02:00:00</th>\n",
       "      <td>1</td>\n",
       "      <td>1</td>\n",
       "      <td>1</td>\n",
       "      <td>1</td>\n",
       "      <td>1</td>\n",
       "      <td>1</td>\n",
       "      <td>1</td>\n",
       "      <td>1</td>\n",
       "      <td>1</td>\n",
       "      <td>1</td>\n",
       "      <td>...</td>\n",
       "      <td>1</td>\n",
       "      <td>1</td>\n",
       "      <td>1</td>\n",
       "      <td>1</td>\n",
       "      <td>1</td>\n",
       "      <td>1</td>\n",
       "      <td>1</td>\n",
       "      <td>1</td>\n",
       "      <td>1</td>\n",
       "      <td>1</td>\n",
       "    </tr>\n",
       "    <tr>\n",
       "      <th>2016-04-01 03:00:00</th>\n",
       "      <td>1</td>\n",
       "      <td>1</td>\n",
       "      <td>1</td>\n",
       "      <td>1</td>\n",
       "      <td>1</td>\n",
       "      <td>1</td>\n",
       "      <td>1</td>\n",
       "      <td>1</td>\n",
       "      <td>1</td>\n",
       "      <td>1</td>\n",
       "      <td>...</td>\n",
       "      <td>1</td>\n",
       "      <td>1</td>\n",
       "      <td>1</td>\n",
       "      <td>1</td>\n",
       "      <td>1</td>\n",
       "      <td>1</td>\n",
       "      <td>1</td>\n",
       "      <td>1</td>\n",
       "      <td>1</td>\n",
       "      <td>1</td>\n",
       "    </tr>\n",
       "    <tr>\n",
       "      <th>2016-04-01 04:00:00</th>\n",
       "      <td>1</td>\n",
       "      <td>1</td>\n",
       "      <td>1</td>\n",
       "      <td>1</td>\n",
       "      <td>1</td>\n",
       "      <td>1</td>\n",
       "      <td>1</td>\n",
       "      <td>1</td>\n",
       "      <td>1</td>\n",
       "      <td>1</td>\n",
       "      <td>...</td>\n",
       "      <td>1</td>\n",
       "      <td>1</td>\n",
       "      <td>1</td>\n",
       "      <td>1</td>\n",
       "      <td>1</td>\n",
       "      <td>1</td>\n",
       "      <td>1</td>\n",
       "      <td>1</td>\n",
       "      <td>1</td>\n",
       "      <td>1</td>\n",
       "    </tr>\n",
       "  </tbody>\n",
       "</table>\n",
       "<p>5 rows × 36 columns</p>\n",
       "</div>"
      ],
      "text/plain": [
       "                    reading                                     ...  \\\n",
       "chemical            AGOC-3A                         Appluimonia ...   \n",
       "monitor                   1  2  3  4  5  6  7  8  9           1 ...   \n",
       "timestamp                                                       ...   \n",
       "2016-04-01 00:00:00       1  1  1  1  1  1  1  1  1           1 ...   \n",
       "2016-04-01 01:00:00       1  1  1  1  1  1  1  1  1           1 ...   \n",
       "2016-04-01 02:00:00       1  1  1  1  1  1  1  1  1           1 ...   \n",
       "2016-04-01 03:00:00       1  1  1  1  1  1  1  1  1           1 ...   \n",
       "2016-04-01 04:00:00       1  1  1  1  1  1  1  1  1           1 ...   \n",
       "\n",
       "                                                                         \n",
       "chemical            Chlorodinine Methylosmolene                          \n",
       "monitor                        9              1  2  3  4  5  6  7  8  9  \n",
       "timestamp                                                                \n",
       "2016-04-01 00:00:00            1              1  1  1  1  1  1  1  1  1  \n",
       "2016-04-01 01:00:00            1              1  1  1  1  1  1  1  1  1  \n",
       "2016-04-01 02:00:00            1              1  1  1  1  1  1  1  1  1  \n",
       "2016-04-01 03:00:00            1              1  1  1  1  1  1  1  1  1  \n",
       "2016-04-01 04:00:00            1              1  1  1  1  1  1  1  1  1  \n",
       "\n",
       "[5 rows x 36 columns]"
      ]
     },
     "execution_count": 6,
     "metadata": {},
     "output_type": "execute_result"
    }
   ],
   "source": [
    "cell_counts(sensor).unstack(['chemical', 'monitor']).fillna(0).astype(int).head()"
   ]
  },
  {
   "cell_type": "code",
   "execution_count": 20,
   "metadata": {},
   "outputs": [
    {
     "data": {
      "image/png": "[encoded data removed]",
      "text/plain": [
       "<matplotlib.figure.Figure at 0x7fbe3e1f56d8>"
      ]
     },
     "metadata": {},
     "output_type": "display_data"
    }
   ],
   "source": [
    "from matplotlib.colors import LinearSegmentedColormap\n",
    "import matplotlib.dates as mdates\n",
    "only_irregularities = True\n",
    "counts = cell_counts(sensor).unstack(['chemical', 'monitor']).fillna(0).astype(int)['reading']\n",
    "if only_irregularities:\n",
    "    counts = counts[(counts != 1).any(axis='columns')]\n",
    "chemicals = counts.columns.get_level_values('chemical').unique().values\n",
    "chemicals = chemicals[(np.arange(len(chemicals))+1) % len(chemicals)]\n",
    "count_vals = np.arange(counts.max().max()+1)\n",
    "def count_label(count_val):\n",
    "    if count_val == 0: return 'missing'\n",
    "    if count_val == 1: return 'ok'\n",
    "    if count_val > 1: return 'duplicated'\n",
    "count_cmap = LinearSegmentedColormap.from_list('count_cmap', plt.get_cmap('Blues')(count_vals/np.max(count_vals)), len(count_vals))\n",
    "fig, axs = plt.subplots(nrows=len(chemicals), sharex=True, figsize=(15, 3*len(chemicals)))\n",
    "for chemical, ax in zip(chemicals, axs.flatten()):\n",
    "    sns.heatmap(counts[chemical].T, cmap=count_cmap, vmin=0, vmax=2, ax=ax)\n",
    "    colorbar = ax.collections[0].colorbar\n",
    "    colorbar.set_ticks((count_vals+0.5)*(len(count_vals)-1)/len(count_vals))\n",
    "    colorbar.set_ticklabels(list(map(count_label, count_vals)))\n",
    "    colorbar.set_label('')\n",
    "    ax.set_xticklabels(pd.to_datetime([t.get_text() for t in ax.get_xticklabels()]).strftime('%d %h'))\n",
    "    ax.set_title(chemical)\n",
    "plt.suptitle('Reading counts ({})'.format('timestamps with irregularities' if only_irregularities else 'all timestamps'))\n",
    "plt.show()"
   ]
  },
  {
   "cell_type": "markdown",
   "metadata": {},
   "source": [
    "## Calculations"
   ]
  },
  {
   "cell_type": "code",
   "execution_count": 8,
   "metadata": {
    "scrolled": true
   },
   "outputs": [
    {
     "data": {
      "text/html": [
       "<div>\n",
       "<style>\n",
       "    .dataframe thead tr:only-child th {\n",
       "        text-align: right;\n",
       "    }\n",
       "\n",
       "    .dataframe thead th {\n",
       "        text-align: left;\n",
       "    }\n",
       "\n",
       "    .dataframe tbody tr th {\n",
       "        vertical-align: top;\n",
       "    }\n",
       "</style>\n",
       "<table border=\"1\" class=\"dataframe\">\n",
       "  <thead>\n",
       "    <tr style=\"text-align: right;\">\n",
       "      <th></th>\n",
       "      <th>east_gu</th>\n",
       "      <th>north_gu</th>\n",
       "      <th>type</th>\n",
       "      <th>east_km</th>\n",
       "      <th>north_km</th>\n",
       "    </tr>\n",
       "    <tr>\n",
       "      <th>name</th>\n",
       "      <th></th>\n",
       "      <th></th>\n",
       "      <th></th>\n",
       "      <th></th>\n",
       "      <th></th>\n",
       "    </tr>\n",
       "  </thead>\n",
       "  <tbody>\n",
       "    <tr>\n",
       "      <th>Roadrunner Fitness Electronics</th>\n",
       "      <td>89</td>\n",
       "      <td>27</td>\n",
       "      <td>factory</td>\n",
       "      <td>8.59206</td>\n",
       "      <td>2.60658</td>\n",
       "    </tr>\n",
       "    <tr>\n",
       "      <th>Kasios Office Furniture</th>\n",
       "      <td>90</td>\n",
       "      <td>21</td>\n",
       "      <td>factory</td>\n",
       "      <td>8.68860</td>\n",
       "      <td>2.02734</td>\n",
       "    </tr>\n",
       "  </tbody>\n",
       "</table>\n",
       "</div>"
      ],
      "text/plain": [
       "                                east_gu  north_gu     type  east_km  north_km\n",
       "name                                                                         \n",
       "Roadrunner Fitness Electronics       89        27  factory  8.59206   2.60658\n",
       "Kasios Office Furniture              90        21  factory  8.68860   2.02734"
      ]
     },
     "execution_count": 8,
     "metadata": {},
     "output_type": "execute_result"
    }
   ],
   "source": [
    "def enhance_locations():\n",
    "    for direction in ['east', 'north']:\n",
    "        locations['{direction}_km'.format(**locals())] = locations['{direction}_gu'.format(**locals())] * km_per_grid_unit\n",
    "enhance_locations()\n",
    "locations.head(2)"
   ]
  },
  {
   "cell_type": "code",
   "execution_count": 9,
   "metadata": {
    "collapsed": true
   },
   "outputs": [],
   "source": [
    "def get_subperiods():\n",
    "    wind_timestamps = np.sort(np.unique(wind.index.values))\n",
    "    wind_intervals = wind_timestamps[1:] - wind_timestamps[:-1]\n",
    "    is_bound = wind_intervals > (np.max(wind_intervals) / 2)\n",
    "    bounds = np.sort(np.r_[wind_timestamps[:-1][is_bound],  wind_timestamps[1:][is_bound], wind_timestamps[[0, -1]]])\n",
    "    result = pd.DataFrame.from_items([('start', np.r_[np.nan, bounds]), \n",
    "                                      ('end', np.r_[bounds, np.nan]),\n",
    "                                      ('has_wind_data', ((np.arange(len(bounds)+1)) % 2).astype(bool)),\n",
    "                                     ])\n",
    "    return result\n",
    "subperiods = get_subperiods()\n",
    "\n",
    "def subperiods_for_timestamps(timestamps):\n",
    "    bounds = subperiods['end'].values[:-1]\n",
    "    rows = (timestamps.reshape((-1,1)) > bounds.reshape((1,-1))).sum(axis=1).flatten()\n",
    "    return subperiods.index.values[rows]"
   ]
  },
  {
   "cell_type": "code",
   "execution_count": 10,
   "metadata": {
    "collapsed": true
   },
   "outputs": [],
   "source": [
    "wind['subperiod'] = subperiods_for_timestamps(wind.index.values)"
   ]
  },
  {
   "cell_type": "code",
   "execution_count": 11,
   "metadata": {},
   "outputs": [
    {
     "data": {
      "text/html": [
       "<div>\n",
       "<style>\n",
       "    .dataframe thead tr:only-child th {\n",
       "        text-align: right;\n",
       "    }\n",
       "\n",
       "    .dataframe thead th {\n",
       "        text-align: left;\n",
       "    }\n",
       "\n",
       "    .dataframe tbody tr th {\n",
       "        vertical-align: top;\n",
       "    }\n",
       "</style>\n",
       "<table border=\"1\" class=\"dataframe\">\n",
       "  <thead>\n",
       "    <tr style=\"text-align: right;\">\n",
       "      <th></th>\n",
       "      <th>subperiod</th>\n",
       "      <th>emission_wind_speed</th>\n",
       "      <th>emission_wind_angle</th>\n",
       "      <th>east_km</th>\n",
       "      <th>north_km</th>\n",
       "    </tr>\n",
       "    <tr>\n",
       "      <th>emission_time</th>\n",
       "      <th></th>\n",
       "      <th></th>\n",
       "      <th></th>\n",
       "      <th></th>\n",
       "      <th></th>\n",
       "    </tr>\n",
       "  </thead>\n",
       "  <tbody>\n",
       "    <tr>\n",
       "      <th>2016-04-01 00:00:00</th>\n",
       "      <td>1</td>\n",
       "      <td>4.000000</td>\n",
       "      <td>190.500000</td>\n",
       "      <td>2328.522616</td>\n",
       "      <td>-1095.425925</td>\n",
       "    </tr>\n",
       "    <tr>\n",
       "      <th>2016-04-01 00:01:00</th>\n",
       "      <td>1</td>\n",
       "      <td>4.005556</td>\n",
       "      <td>190.571111</td>\n",
       "      <td>2328.478879</td>\n",
       "      <td>-1095.661906</td>\n",
       "    </tr>\n",
       "  </tbody>\n",
       "</table>\n",
       "</div>"
      ],
      "text/plain": [
       "                     subperiod  emission_wind_speed  emission_wind_angle  \\\n",
       "emission_time                                                              \n",
       "2016-04-01 00:00:00          1             4.000000           190.500000   \n",
       "2016-04-01 00:01:00          1             4.005556           190.571111   \n",
       "\n",
       "                         east_km     north_km  \n",
       "emission_time                                  \n",
       "2016-04-01 00:00:00  2328.522616 -1095.425925  \n",
       "2016-04-01 00:01:00  2328.478879 -1095.661906  "
      ]
     },
     "execution_count": 11,
     "metadata": {},
     "output_type": "execute_result"
    }
   ],
   "source": [
    "def get_final_plume_shapes():\n",
    "    def get_subperiod_fine_displacements(period_name, subperiod):\n",
    "        wind_angles = sp.interpolate.interp1d(x=wind.index.values.astype(float), y=np.unwrap(np.deg2rad(wind['direction'].values)), kind='linear')\n",
    "        wind_speed = sp.interpolate.interp1d(x=wind.index.values.astype(float), y=wind['speed'].values, kind='linear')\n",
    "        result = pd.DataFrame(index=pd.date_range(start=subperiod['start'], end=subperiod['end'], freq='min'))\n",
    "        result.index.name = 'emission_time'\n",
    "        result['subperiod'] = period_name\n",
    "        float_timesteps = result.index.values.astype(float)\n",
    "        speed = wind_speed(float_timesteps)\n",
    "        angle = wind_angles(float_timesteps)\n",
    "        result['emission_wind_speed'] = speed\n",
    "        result['emission_wind_angle'] = np.rad2deg(angle) % 360\n",
    "        interval_seconds = (result.index.shift(1) - result.index).total_seconds().values\n",
    "        for col, trig_func in [('east_km', np.sin), ('north_km', np.cos)]:\n",
    "            # cumulative displacement in km\n",
    "            result[col] = np.flipud(np.cumsum(np.r_[0, np.flipud(- speed * trig_func(angle) * interval_seconds / 1000 )[1:]]))\n",
    "        return result\n",
    "    return pd.concat(get_subperiod_fine_displacements(name, dets) for name, dets in subperiods[subperiods['has_wind_data']].iterrows())\n",
    "    \n",
    "final_plume_shapes = get_final_plume_shapes()\n",
    "final_plume_shapes.head(2)"
   ]
  },
  {
   "cell_type": "code",
   "execution_count": 12,
   "metadata": {},
   "outputs": [
    {
     "data": {
      "image/png": "[encoded data removed]",
      "text/plain": [
       "<matplotlib.figure.Figure at 0x7fbe3f23cef0>"
      ]
     },
     "metadata": {},
     "output_type": "display_data"
    }
   ],
   "source": [
    "plt.figure()\n",
    "period_indices = final_plume_shapes['subperiod'].unique()\n",
    "for p in period_indices:\n",
    "    to_plot = final_plume_shapes[final_plume_shapes['subperiod'] == p]\n",
    "    plt.plot(to_plot['east_km'].values, to_plot['north_km'].values, label=p)\n",
    "plt.legend(title='period')\n",
    "plt.title('Final plume shapes')\n",
    "plt.xlabel('East (km)')\n",
    "plt.ylabel('North (km)')\n",
    "plt.show()"
   ]
  },
  {
   "cell_type": "code",
   "execution_count": 13,
   "metadata": {},
   "outputs": [
    {
     "data": {
      "text/html": [
       "<div>\n",
       "<style>\n",
       "    .dataframe thead tr:only-child th {\n",
       "        text-align: right;\n",
       "    }\n",
       "\n",
       "    .dataframe thead th {\n",
       "        text-align: left;\n",
       "    }\n",
       "\n",
       "    .dataframe tbody tr th {\n",
       "        vertical-align: top;\n",
       "    }\n",
       "</style>\n",
       "<table border=\"1\" class=\"dataframe\">\n",
       "  <thead>\n",
       "    <tr style=\"text-align: right;\">\n",
       "      <th></th>\n",
       "      <th></th>\n",
       "      <th></th>\n",
       "      <th>reading</th>\n",
       "      <th>unique</th>\n",
       "    </tr>\n",
       "    <tr>\n",
       "      <th>chemical</th>\n",
       "      <th>monitor</th>\n",
       "      <th>timestamp</th>\n",
       "      <th></th>\n",
       "      <th></th>\n",
       "    </tr>\n",
       "  </thead>\n",
       "  <tbody>\n",
       "    <tr>\n",
       "      <th rowspan=\"2\" valign=\"top\">AGOC-3A</th>\n",
       "      <th rowspan=\"2\" valign=\"top\">1</th>\n",
       "      <th>2016-04-01 00:00:00</th>\n",
       "      <td>0.160462</td>\n",
       "      <td>True</td>\n",
       "    </tr>\n",
       "    <tr>\n",
       "      <th>2016-04-01 01:00:00</th>\n",
       "      <td>0.065606</td>\n",
       "      <td>True</td>\n",
       "    </tr>\n",
       "  </tbody>\n",
       "</table>\n",
       "</div>"
      ],
      "text/plain": [
       "                                       reading  unique\n",
       "chemical monitor timestamp                            \n",
       "AGOC-3A  1       2016-04-01 00:00:00  0.160462    True\n",
       "                 2016-04-01 01:00:00  0.065606    True"
      ]
     },
     "execution_count": 13,
     "metadata": {},
     "output_type": "execute_result"
    }
   ],
   "source": [
    "def mark_unique_sensor_readings():\n",
    "    sensor_index_counts = sensor.groupby(sensor.index).size()\n",
    "    unique_reading_indices = sensor_index_counts[sensor_index_counts==1].index\n",
    "    sensor['unique'] = sensor.index.isin(unique_reading_indices)\n",
    "mark_unique_sensor_readings()\n",
    "sensor.head(2)"
   ]
  },
  {
   "cell_type": "code",
   "execution_count": 14,
   "metadata": {
    "collapsed": true
   },
   "outputs": [],
   "source": [
    "def get_sensor_wind_distance_and_readings(max_plume_distance=50):\n",
    "    def partial_concentrations(diffusion_rate, distance_sq, age):\n",
    "        return np.exp(-distance_sq / (2 * diffusion_rate * diffusion_rate * age)) / (diffusion_rate * np.sqrt(2 * np.pi * age))\n",
    "    def highest_concentration_diffusion_rate(distance_sq, age):\n",
    "        valid = (distance_sq > 0) & (age > 0)\n",
    "        distance_sq = distance_sq[valid]\n",
    "        age = age[valid]\n",
    "        standalone_rate = np.sqrt(distance_sq/age)\n",
    "        ndx_highest_standalone = np.argmax(partial_concentrations(standalone_rate, distance_sq, age))\n",
    "        def negative_total_concentration(diffusion_rate):\n",
    "            return - partial_concentrations(diffusion_rate, distance_sq, age).sum()\n",
    "        minimized = sp.optimize.minimize(negative_total_concentration, standalone_rate[ndx_highest_standalone])\n",
    "        return minimized.x[0] if minimized.success else np.nan\n",
    "    periods = subperiods[subperiods['has_wind_data']]\n",
    "    factory_locations = locations[locations['type'] == 'factory'].reset_index()\n",
    "    sensor_locations = locations[locations['type'] == 'sensor'].reset_index()\n",
    "    coord_cols = ['east_km', 'north_km']\n",
    "    # direction * sensor * factory\n",
    "    sensor_factory_displacements = np.expand_dims(sensor_locations[coord_cols].values.T,2) - np.expand_dims(factory_locations[coord_cols].values.T, 1)\n",
    "    sensor_timestamps = sensor.index.get_level_values('timestamp').unique()\n",
    "    component_dfs = []\n",
    "    for period in rows_as_series(periods.reset_index()):\n",
    "        period_plume_shape = final_plume_shapes[final_plume_shapes['subperiod'] == period['index']]\n",
    "        period_emission_seconds = (lambda x: (x-x[0]).total_seconds().values)(period_plume_shape.index)\n",
    "        period_plume_shape_coords = period_plume_shape[coord_cols].values\n",
    "        measurement_times = sensor_timestamps.copy()\n",
    "        if not pd.isnull(period['end']): measurement_times = measurement_times[measurement_times <= period['end']]\n",
    "        if not pd.isnull(period['start']): measurement_times = measurement_times[measurement_times > period['start']]\n",
    "        measurement_rows = np.searchsorted(period_plume_shape.index, measurement_times)\n",
    "        assert all(period_plume_shape.index.values[measurement_rows] == measurement_times.values)\n",
    "        diff_rates = []\n",
    "        for measurement_row, measurement_time in zip(measurement_rows, measurement_times):\n",
    "            plume_displacements = period_plume_shape_coords[measurement_row].reshape(1,-1)- period_plume_shape_coords[:measurement_row,:]\n",
    "            plume_distance = np.sqrt((plume_displacements*plume_displacements).sum(axis=1))\n",
    "            within_range = plume_distance < max_plume_distance\n",
    "            plume_age_seconds = period_emission_seconds[measurement_row] - period_emission_seconds[:measurement_row]\n",
    "            plume_displacements = plume_displacements[within_range, ...]\n",
    "            plume_age_seconds = plume_age_seconds[within_range]\n",
    "            sensor_distance_components = np.reshape(plume_displacements.T, (2,1,1,-1)) - np.expand_dims(sensor_factory_displacements, 3)\n",
    "            sensor_squared_distances = (sensor_distance_components*sensor_distance_components).sum(axis=0)\n",
    "            diff_rates.append(np.apply_along_axis(highest_concentration_diffusion_rate, -1, sensor_squared_distances, age=plume_age_seconds))\n",
    "        diff_rates = np.array(diff_rates).transpose(1,2,0) # sensor * facory * timestep\n",
    "        partial_result = pd.DataFrame(index=pd.Index(measurement_times, name='timestamp'))\n",
    "        for sensor_dets, sensor_rates in zip(rows_as_series(sensor_locations), diff_rates):\n",
    "            for factory_dets, factory_rates in zip(rows_as_series(factory_locations), sensor_rates):\n",
    "                partial_result[('wind_distance', sensor_dets['name'], factory_dets['name'])] = factory_rates\n",
    "        component_dfs.append(partial_result)\n",
    "    result = pd.concat(component_dfs)\n",
    "    result.columns = pd.MultiIndex.from_tuples(result.columns, names=['stat', 'monitor', 'item'])\n",
    "    result = result.stack('monitor')\n",
    "    index_names = result.index.names\n",
    "    columns_names = result.columns.names\n",
    "    result.index = result.index.values\n",
    "    result.columns = result.columns.values\n",
    "    sensor_copy = sensor.copy().unstack('chemical')\n",
    "    sensor_copy.columns.names = ['item', 'stat']\n",
    "    sensor_copy.reorder_levels(columns_names, axis='columns')\n",
    "    sensor_copy.reorder_levels(index_names, axis='index')\n",
    "    result = result.join(sensor_copy)\n",
    "    result.index = pd.MultiIndex.from_tuples(result.index, names=index_names)\n",
    "    result.columns = pd.MultiIndex.from_tuples(result.columns, names=column_names)\n",
    "    return result\n",
    "#sensor_wind_distance_and_readings = get_sensor_wind_distance_and_readings()\n",
    "#sensor_wind_distance_and_readings.head(2)"
   ]
  },
  {
   "cell_type": "code",
   "execution_count": 15,
   "metadata": {},
   "outputs": [
    {
     "data": {
      "text/html": [
       "<div>\n",
       "<style>\n",
       "    .dataframe thead tr:only-child th {\n",
       "        text-align: right;\n",
       "    }\n",
       "\n",
       "    .dataframe thead th {\n",
       "        text-align: left;\n",
       "    }\n",
       "\n",
       "    .dataframe tbody tr th {\n",
       "        vertical-align: top;\n",
       "    }\n",
       "</style>\n",
       "<table border=\"1\" class=\"dataframe\">\n",
       "  <thead>\n",
       "    <tr style=\"text-align: right;\">\n",
       "      <th></th>\n",
       "      <th></th>\n",
       "      <th></th>\n",
       "      <th>reading</th>\n",
       "      <th>wind_speed</th>\n",
       "      <th>wind_direction</th>\n",
       "      <th>subperiod</th>\n",
       "      <th>has_wind_data</th>\n",
       "      <th>sensor_east_km</th>\n",
       "      <th>sensor_north_km</th>\n",
       "      <th>sensor_name</th>\n",
       "    </tr>\n",
       "    <tr>\n",
       "      <th>chemical</th>\n",
       "      <th>monitor</th>\n",
       "      <th>timestamp</th>\n",
       "      <th></th>\n",
       "      <th></th>\n",
       "      <th></th>\n",
       "      <th></th>\n",
       "      <th></th>\n",
       "      <th></th>\n",
       "      <th></th>\n",
       "      <th></th>\n",
       "    </tr>\n",
       "  </thead>\n",
       "  <tbody>\n",
       "    <tr>\n",
       "      <th rowspan=\"2\" valign=\"top\">AGOC-3A</th>\n",
       "      <th rowspan=\"2\" valign=\"top\">1</th>\n",
       "      <th>2016-04-01 00:00:00</th>\n",
       "      <td>0.160462</td>\n",
       "      <td>4.000000</td>\n",
       "      <td>190.500000</td>\n",
       "      <td>0</td>\n",
       "      <td>False</td>\n",
       "      <td>5.98548</td>\n",
       "      <td>2.02734</td>\n",
       "      <td>NaN</td>\n",
       "    </tr>\n",
       "    <tr>\n",
       "      <th>2016-04-01 01:00:00</th>\n",
       "      <td>0.065606</td>\n",
       "      <td>4.333333</td>\n",
       "      <td>194.766667</td>\n",
       "      <td>1</td>\n",
       "      <td>True</td>\n",
       "      <td>5.98548</td>\n",
       "      <td>2.02734</td>\n",
       "      <td>NaN</td>\n",
       "    </tr>\n",
       "  </tbody>\n",
       "</table>\n",
       "</div>"
      ],
      "text/plain": [
       "                                       reading  wind_speed  wind_direction  \\\n",
       "chemical monitor timestamp                                                   \n",
       "AGOC-3A  1       2016-04-01 00:00:00  0.160462    4.000000      190.500000   \n",
       "                 2016-04-01 01:00:00  0.065606    4.333333      194.766667   \n",
       "\n",
       "                                      subperiod  has_wind_data  \\\n",
       "chemical monitor timestamp                                       \n",
       "AGOC-3A  1       2016-04-01 00:00:00          0          False   \n",
       "                 2016-04-01 01:00:00          1           True   \n",
       "\n",
       "                                      sensor_east_km  sensor_north_km  \\\n",
       "chemical monitor timestamp                                              \n",
       "AGOC-3A  1       2016-04-01 00:00:00         5.98548          2.02734   \n",
       "                 2016-04-01 01:00:00         5.98548          2.02734   \n",
       "\n",
       "                                      sensor_name  \n",
       "chemical monitor timestamp                         \n",
       "AGOC-3A  1       2016-04-01 00:00:00          NaN  \n",
       "                 2016-04-01 01:00:00          NaN  "
      ]
     },
     "execution_count": 15,
     "metadata": {},
     "output_type": "execute_result"
    }
   ],
   "source": [
    "def get_all_joined():\n",
    "    result = sensor.loc[sensor['unique'], [c for c in sensor.columns if c != 'unique']].copy()\n",
    "    ref_timestamp = wind.index.values[0]\n",
    "    def numeric_timestamp(x):\n",
    "        return (x - ref_timestamp).astype(float)\n",
    "    def raw_wind_interp(values):\n",
    "        return interp1d(numeric_timestamp(wind.index.values), \n",
    "                        values.astype(float), \n",
    "                        fill_value=tuple(values[[0, -1]]),\n",
    "                        bounds_error=False,\n",
    "                       )\n",
    "    target_timestamps = numeric_timestamp(result.index.get_level_values('timestamp').values)\n",
    "    result['wind_speed'] = raw_wind_interp(wind['speed'].values)(target_timestamps)\n",
    "    result['wind_direction'] = raw_wind_interp(np.rad2deg(np.unwrap(np.deg2rad(wind['direction'].values))))(target_timestamps) % 360\n",
    "    result['subperiod'] = subperiods_for_timestamps(result.index.get_level_values('timestamp').values)\n",
    "    result = result.join(subperiods['has_wind_data'], on='subperiod')\n",
    "    sensor_locations = locations.loc[locations['type'] == 'sensor', ['east_km', 'north_km', 'name']]\n",
    "    sensor_locations.index.name = 'monitor'\n",
    "    sensor_locations.columns = ['sensor_{}'.format(c) for c in sensor_locations.columns]\n",
    "    result = result.join(sensor_locations)\n",
    "    return result\n",
    "all_joined = get_all_joined()\n",
    "all_joined.head(2)"
   ]
  },
  {
   "cell_type": "markdown",
   "metadata": {},
   "source": [
    "## Inspection"
   ]
  },
  {
   "cell_type": "code",
   "execution_count": 16,
   "metadata": {},
   "outputs": [
    {
     "data": {
      "image/png": "[encoded data removed]",
      "text/plain": [
       "<matplotlib.figure.Figure at 0x7fbe3eaea6d8>"
      ]
     },
     "metadata": {},
     "output_type": "display_data"
    }
   ],
   "source": [
    "plt.figure(figsize=(8, 8))\n",
    "ax = plt.gca()\n",
    "for loc_type in locations['type'].unique():\n",
    "    data = locations[locations['type'] == loc_type]\n",
    "    plt.plot(data['east_km'].values, data['north_km'].values, 'o', label=loc_type)\n",
    "    data.reset_index().apply(lambda row: plt.text(row['east_km'], row['north_km']-0.1, row['name'], ha='center', va='top'), axis='columns')\n",
    "plt.title('Locations')\n",
    "plt.legend(loc='lower right', title='Location types')\n",
    "plt.xlabel('distance East (km)')\n",
    "plt.ylabel('distance North (km)')\n",
    "plt.show()"
   ]
  },
  {
   "cell_type": "code",
   "execution_count": 17,
   "metadata": {},
   "outputs": [
    {
     "data": {
      "image/png": "[encoded data removed]",
      "text/plain": [
       "<matplotlib.figure.Figure at 0x7fbe3de14e48>"
      ]
     },
     "metadata": {},
     "output_type": "display_data"
    }
   ],
   "source": [
    "plt.figure(figsize=(20,5))\n",
    "plt.plot(wind.index.values, (wind['speed'] / wind['speed'].max()).values, '.', label='wind')\n",
    "for chemical in sensor.index.get_level_values('chemical').unique():\n",
    "    data = sensor.loc[chemical,:].loc[6,'reading']\n",
    "    data /= data.max()\n",
    "    plt.plot(data.index.values, data.values, '.', label=chemical)\n",
    "plt.legend()\n",
    "plt.title('Wind speed and chemicals from sensor 6 (normalized)')\n",
    "plt.ylabel('proportion of maximum')\n",
    "plt.show()"
   ]
  },
  {
   "cell_type": "code",
   "execution_count": 18,
   "metadata": {},
   "outputs": [
    {
     "data": {
      "image/png": "[encoded data removed]",
      "text/plain": [
       "<matplotlib.figure.Figure at 0x7fbe3f2a29e8>"
      ]
     },
     "metadata": {},
     "output_type": "display_data"
    }
   ],
   "source": [
    "to_plot = all_joined[all_joined['subperiod'] == 1].reset_index().set_index('timestamp')[['wind_direction']]\n",
    "to_plot['change'] = to_plot['wind_direction'] - to_plot['wind_direction'].shift(1)\n",
    "to_plot.dropna(inplace=True)\n",
    "fig, axs = plt.subplots(ncols=2, figsize=(15,5))\n",
    "axs[0].hist(to_plot['change'].values)\n",
    "axs[1].plot(to_plot['wind_direction'].values, to_plot['change'].values, 'o')\n",
    "plt.show()"
   ]
  },
  {
   "cell_type": "markdown",
   "metadata": {
    "collapsed": true
   },
   "source": [
    "## Save"
   ]
  },
  {
   "cell_type": "code",
   "execution_count": 19,
   "metadata": {
    "collapsed": true
   },
   "outputs": [],
   "source": [
    "to_save = OrderedDict([\n",
    "                       ('all_joined', all_joined),\n",
    "                       ('sensor', sensor),\n",
    "                       ('wind', wind),\n",
    "                       ('locations', locations),\n",
    "                       ('subperiods', subperiods),\n",
    "                       ('final_plume_shapes', final_plume_shapes),\n",
    "#                       ('sensor_wind_distance_and_readings', sensor_wind_distance_and_readings),\n",
    "                      ])\n",
    "# excel\n",
    "with pd.ExcelWriter(source_file_excel) as writer:\n",
    "    for sheet_name, content in to_save.items():\n",
    "        if isinstance(content.index, pd.MultiIndex) or content.index.name:\n",
    "            content = content.reset_index()\n",
    "        content.to_excel(writer, sheet_name=sheet_name, index=False)\n",
    "# pickle\n",
    "pd.to_pickle(to_save, str(source_file_pickle))"
   ]
  },
  {
   "cell_type": "code",
   "execution_count": null,
   "metadata": {
    "collapsed": true
   },
   "outputs": [],
   "source": []
  }
 ],
 "metadata": {
  "kernelspec": {
   "display_name": "Python 3",
   "language": "python",
   "name": "python3"
  },
  "language_info": {
   "codemirror_mode": {
    "name": "ipython",
    "version": 3
   },
   "file_extension": ".py",
   "mimetype": "text/x-python",
   "name": "python",
   "nbconvert_exporter": "python",
   "pygments_lexer": "ipython3",
   "version": "3.6.2"
  }
 },
 "nbformat": 4,
 "nbformat_minor": 2
}
