{
 "cells": [
  {
   "cell_type": "code",
   "execution_count": 2,
   "metadata": {
    "collapsed": true
   },
   "outputs": [],
   "source": [
    "from sympy import *\n",
    "init_printing()\n",
    "\n",
    "import matplotlib.pyplot as plt\n",
    "%matplotlib inline"
   ]
  },
  {
   "cell_type": "code",
   "execution_count": 3,
   "metadata": {
    "collapsed": true
   },
   "outputs": [],
   "source": [
    "x, sigma, t, Q, v = symbols('x sigma t Q v')"
   ]
  },
  {
   "cell_type": "code",
   "execution_count": 4,
   "metadata": {},
   "outputs": [
    {
     "data": {
      "image/png": "[encoded data removed]",
      "text/latex": [
       "$$\\frac{\\sqrt{2} Q e^{- \\frac{x^{2}}{2 \\sigma^{2} t}}}{2 \\sqrt{\\pi} \\sigma \\sqrt{t} v}$$"
      ],
      "text/plain": [
       "         2  \n",
       "       -x   \n",
       "      ──────\n",
       "         2  \n",
       "      2⋅σ ⋅t\n",
       "√2⋅Q⋅ℯ      \n",
       "────────────\n",
       "2⋅√π⋅σ⋅√t⋅v "
      ]
     },
     "execution_count": 4,
     "metadata": {},
     "output_type": "execute_result"
    }
   ],
   "source": [
    "density = (Q / v) * exp(-(x**2) / (2 * sigma**2 * t)) / (sigma * sqrt(2 * pi * t))\n",
    "density"
   ]
  },
  {
   "cell_type": "code",
   "execution_count": 5,
   "metadata": {},
   "outputs": [
    {
     "data": {
      "image/png": "[encoded data removed]",
      "text/plain": [
       "<matplotlib.figure.Figure at 0x7fe901992a58>"
      ]
     },
     "metadata": {},
     "output_type": "display_data"
    },
    {
     "data": {
      "text/plain": [
       "<sympy.plotting.plot.Plot at 0x7fe9019a5b38>"
      ]
     },
     "execution_count": 5,
     "metadata": {},
     "output_type": "execute_result"
    }
   ],
   "source": [
    "plot(density.subs({x: 5, t: 5, Q: 1, v: 1}), (sigma, 0.1, 5))"
   ]
  },
  {
   "cell_type": "code",
   "execution_count": 6,
   "metadata": {},
   "outputs": [
    {
     "data": {
      "image/png": "[encoded data removed]",
      "text/latex": [
       "$$- \\frac{1}{\\sigma} + \\frac{x^{2}}{\\sigma^{3} t}$$"
      ],
      "text/plain": [
       "        2 \n",
       "  1    x  \n",
       "- ─ + ────\n",
       "  σ    3  \n",
       "      σ ⋅t"
      ]
     },
     "execution_count": 6,
     "metadata": {},
     "output_type": "execute_result"
    }
   ],
   "source": [
    "deriv_1 = density.diff(sigma).simplify()\n",
    "(deriv_1 / density).simplify()"
   ]
  },
  {
   "cell_type": "code",
   "execution_count": 10,
   "metadata": {},
   "outputs": [
    {
     "data": {
      "image/png": "[encoded data removed]",
      "text/latex": [
       "$$\\left [ - x \\sqrt{\\frac{1}{t}}, \\quad x \\sqrt{\\frac{1}{t}}\\right ]$$"
      ],
      "text/plain": [
       "⎡       ___        ___⎤\n",
       "⎢      ╱ 1        ╱ 1 ⎥\n",
       "⎢-x⋅  ╱  ─ , x⋅  ╱  ─ ⎥\n",
       "⎣   ╲╱   t     ╲╱   t ⎦"
      ]
     },
     "execution_count": 10,
     "metadata": {},
     "output_type": "execute_result"
    }
   ],
   "source": [
    "solve(deriv_1, sigma)"
   ]
  },
  {
   "cell_type": "code",
   "execution_count": 8,
   "metadata": {},
   "outputs": [
    {
     "data": {
      "image/png": "[encoded data removed]",
      "text/latex": [
       "$$\\frac{2}{\\sigma^{2}} - \\frac{5 x^{2}}{\\sigma^{4} t} + \\frac{x^{4}}{\\sigma^{6} t^{2}}$$"
      ],
      "text/plain": [
       "        2      4 \n",
       "2    5⋅x      x  \n",
       "── - ──── + ─────\n",
       " 2    4      6  2\n",
       "σ    σ ⋅t   σ ⋅t "
      ]
     },
     "execution_count": 8,
     "metadata": {},
     "output_type": "execute_result"
    }
   ],
   "source": [
    "deriv_2 = deriv_1.diff(sigma).simplify()\n",
    "(deriv_2 / density).simplify()"
   ]
  },
  {
   "cell_type": "code",
   "execution_count": 58,
   "metadata": {
    "collapsed": true
   },
   "outputs": [],
   "source": [
    "f_density = lambdify((x, sigma, t, v, Q), density, modules='numpy')"
   ]
  },
  {
   "cell_type": "code",
   "execution_count": 61,
   "metadata": {},
   "outputs": [
    {
     "data": {
      "text/plain": [
       "[<matplotlib.lines.Line2D at 0x7f3a1de464e0>]"
      ]
     },
     "execution_count": 61,
     "metadata": {},
     "output_type": "execute_result"
    },
    {
     "data": {
      "image/png": "[encoded data removed]",
      "text/plain": [
       "<matplotlib.figure.Figure at 0x7f3a1dece3c8>"
      ]
     },
     "metadata": {},
     "output_type": "display_data"
    }
   ],
   "source": [
    "import numpy as np\n",
    "time = np.linspace(0.1, 10, 100)\n",
    "plt.plot(time, f_density(1, 1, time, 1, 1))"
   ]
  },
  {
   "cell_type": "code",
   "execution_count": null,
   "metadata": {
    "collapsed": true
   },
   "outputs": [],
   "source": []
  }
 ],
 "metadata": {
  "kernelspec": {
   "display_name": "Python 3",
   "language": "python",
   "name": "python3"
  },
  "language_info": {
   "codemirror_mode": {
    "name": "ipython",
    "version": 3
   },
   "file_extension": ".py",
   "mimetype": "text/x-python",
   "name": "python",
   "nbconvert_exporter": "python",
   "pygments_lexer": "ipython3",
   "version": "3.6.2"
  }
 },
 "nbformat": 4,
 "nbformat_minor": 2
}
